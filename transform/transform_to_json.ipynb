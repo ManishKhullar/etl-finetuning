{
 "cells": [
  {
   "cell_type": "code",
   "execution_count": 1,
   "metadata": {},
   "outputs": [
    {
     "name": "stdout",
     "output_type": "stream",
     "text": [
      "{\"messages\": [{\"role\": \"system\", \"content\": \"empty\"}, {\"role\": \"user\", \"content\": \"instruction\"}, {\"role\": \"assistant\", \"content\": \"code\\r\\ncode\\r\\ncode\\r\\ncode\"}]}\n",
      "\n"
     ]
    }
   ],
   "source": [
    "import json\n",
    "from google.cloud import firestore\n",
    "\n",
    "db = firestore.Client()\n",
    "\n",
    "# Fetch all documents from the 'train_data' collection\n",
    "docs = db.collection('train_data').stream()\n",
    "\n",
    "# Open a file to write the JSONL content\n",
    "with open('training_data/training_data.jsonl', 'w') as file:\n",
    "    # Loop through the documents and create JSON objects\n",
    "    for doc in docs:\n",
    "        data = doc.to_dict()\n",
    "        instruction = data.get('instruction', '')\n",
    "        code = data.get('code', '')\n",
    "\n",
    "        # Construct the JSON object for the current document\n",
    "        json_obj = {\n",
    "            \"messages\": [\n",
    "                {\"role\": \"system\", \"content\": \"empty\"},\n",
    "                {\"role\": \"user\", \"content\": instruction},\n",
    "                {\"role\": \"assistant\", \"content\": code}\n",
    "            ]\n",
    "        }\n",
    "        # Convert the JSON object to a string and write it to the file with a newline\n",
    "        file.write(json.dumps(json_obj) + \"\\n\")\n",
    "        print(json.dumps(json_obj) + \"\\n\")"
   ]
  }
 ],
 "metadata": {
  "kernelspec": {
   "display_name": "base",
   "language": "python",
   "name": "python3"
  },
  "language_info": {
   "codemirror_mode": {
    "name": "ipython",
    "version": 3
   },
   "file_extension": ".py",
   "mimetype": "text/x-python",
   "name": "python",
   "nbconvert_exporter": "python",
   "pygments_lexer": "ipython3",
   "version": "3.11.3"
  }
 },
 "nbformat": 4,
 "nbformat_minor": 2
}
